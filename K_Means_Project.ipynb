{
  "cells": [
    {
      "cell_type": "markdown",
      "metadata": {
        "id": "view-in-github",
        "colab_type": "text"
      },
      "source": [
        "<a href=\"https://colab.research.google.com/github/Muluken1Walle/K_Means-Project/blob/main/K_Means_Project.ipynb\" target=\"_parent\"><img src=\"https://colab.research.google.com/assets/colab-badge.svg\" alt=\"Open In Colab\"/></a>"
      ]
    },
    {
      "cell_type": "code",
      "execution_count": null,
      "metadata": {
        "id": "u80GI7_373hU"
      },
      "outputs": [],
      "source": [
        "import pandas as pd\n",
        "import numpy as np\n",
        "import seaborn as sns\n",
        "import matplotlib.pyplot as plt\n",
        "%matplotlib inline"
      ]
    },
    {
      "cell_type": "code",
      "execution_count": null,
      "metadata": {
        "id": "DfeSXCawWaTJ"
      },
      "outputs": [],
      "source": [
        ""
      ]
    },
    {
      "cell_type": "code",
      "execution_count": null,
      "metadata": {
        "id": "UBwfM8LL_NzC"
      },
      "outputs": [],
      "source": [
        "data=pd.read_csv('/content/drive/MyDrive/employee-compensation.csv')"
      ]
    },
    {
      "cell_type": "code",
      "execution_count": null,
      "metadata": {
        "colab": {
          "base_uri": "https://localhost:8080/",
          "height": 427
        },
        "id": "XDsNd7ms_Zy3",
        "outputId": "668d4a61-7cd9-4218-9c97-cfbc0ede6723"
      },
      "outputs": [
        {
          "data": {
            "text/html": [
              "\n",
              "  <div id=\"df-fdabfd3f-5313-4fd8-97fd-5b477badc1f6\">\n",
              "    <div class=\"colab-df-container\">\n",
              "      <div>\n",
              "<style scoped>\n",
              "    .dataframe tbody tr th:only-of-type {\n",
              "        vertical-align: middle;\n",
              "    }\n",
              "\n",
              "    .dataframe tbody tr th {\n",
              "        vertical-align: top;\n",
              "    }\n",
              "\n",
              "    .dataframe thead th {\n",
              "        text-align: right;\n",
              "    }\n",
              "</style>\n",
              "<table border=\"1\" class=\"dataframe\">\n",
              "  <thead>\n",
              "    <tr style=\"text-align: right;\">\n",
              "      <th></th>\n",
              "      <th>Organization Group Code</th>\n",
              "      <th>Job Family Code</th>\n",
              "      <th>Job Code</th>\n",
              "      <th>Year Type</th>\n",
              "      <th>Year</th>\n",
              "      <th>Organization Group</th>\n",
              "      <th>Department Code</th>\n",
              "      <th>Department</th>\n",
              "      <th>Union Code</th>\n",
              "      <th>Union</th>\n",
              "      <th>...</th>\n",
              "      <th>Employee Identifier</th>\n",
              "      <th>Salaries</th>\n",
              "      <th>Overtime</th>\n",
              "      <th>Other Salaries</th>\n",
              "      <th>Total Salary</th>\n",
              "      <th>Retirement</th>\n",
              "      <th>Health and Dental</th>\n",
              "      <th>Other Benefits</th>\n",
              "      <th>Total Benefits</th>\n",
              "      <th>Total Compensation</th>\n",
              "    </tr>\n",
              "  </thead>\n",
              "  <tbody>\n",
              "    <tr>\n",
              "      <th>0</th>\n",
              "      <td>1</td>\n",
              "      <td>1000</td>\n",
              "      <td>1021</td>\n",
              "      <td>Calendar</td>\n",
              "      <td>2013</td>\n",
              "      <td>Public Protection</td>\n",
              "      <td>ADP</td>\n",
              "      <td>ADP Adult Probation</td>\n",
              "      <td>21.0</td>\n",
              "      <td>Prof &amp; Tech Engineers - Miscellaneous, Local 21</td>\n",
              "      <td>...</td>\n",
              "      <td>37730</td>\n",
              "      <td>57534.65</td>\n",
              "      <td>0.0</td>\n",
              "      <td>0.0</td>\n",
              "      <td>57534.65</td>\n",
              "      <td>11253.16</td>\n",
              "      <td>11961.34</td>\n",
              "      <td>4532.63</td>\n",
              "      <td>27747.13</td>\n",
              "      <td>85281.78</td>\n",
              "    </tr>\n",
              "    <tr>\n",
              "      <th>1</th>\n",
              "      <td>1</td>\n",
              "      <td>1000</td>\n",
              "      <td>1023</td>\n",
              "      <td>Calendar</td>\n",
              "      <td>2013</td>\n",
              "      <td>Public Protection</td>\n",
              "      <td>ADP</td>\n",
              "      <td>ADP Adult Probation</td>\n",
              "      <td>21.0</td>\n",
              "      <td>Prof &amp; Tech Engineers - Miscellaneous, Local 21</td>\n",
              "      <td>...</td>\n",
              "      <td>26574</td>\n",
              "      <td>57678.50</td>\n",
              "      <td>0.0</td>\n",
              "      <td>0.0</td>\n",
              "      <td>57678.50</td>\n",
              "      <td>10284.88</td>\n",
              "      <td>7176.80</td>\n",
              "      <td>4755.14</td>\n",
              "      <td>22216.82</td>\n",
              "      <td>79895.32</td>\n",
              "    </tr>\n",
              "    <tr>\n",
              "      <th>2</th>\n",
              "      <td>1</td>\n",
              "      <td>1000</td>\n",
              "      <td>1031</td>\n",
              "      <td>Calendar</td>\n",
              "      <td>2013</td>\n",
              "      <td>Public Protection</td>\n",
              "      <td>ADP</td>\n",
              "      <td>ADP Adult Probation</td>\n",
              "      <td>21.0</td>\n",
              "      <td>Prof &amp; Tech Engineers - Miscellaneous, Local 21</td>\n",
              "      <td>...</td>\n",
              "      <td>8148</td>\n",
              "      <td>63532.93</td>\n",
              "      <td>0.0</td>\n",
              "      <td>0.0</td>\n",
              "      <td>63532.93</td>\n",
              "      <td>12495.83</td>\n",
              "      <td>12918.24</td>\n",
              "      <td>4702.71</td>\n",
              "      <td>30116.78</td>\n",
              "      <td>93649.71</td>\n",
              "    </tr>\n",
              "  </tbody>\n",
              "</table>\n",
              "<p>3 rows × 22 columns</p>\n",
              "</div>\n",
              "      <button class=\"colab-df-convert\" onclick=\"convertToInteractive('df-fdabfd3f-5313-4fd8-97fd-5b477badc1f6')\"\n",
              "              title=\"Convert this dataframe to an interactive table.\"\n",
              "              style=\"display:none;\">\n",
              "        \n",
              "  <svg xmlns=\"http://www.w3.org/2000/svg\" height=\"24px\"viewBox=\"0 0 24 24\"\n",
              "       width=\"24px\">\n",
              "    <path d=\"M0 0h24v24H0V0z\" fill=\"none\"/>\n",
              "    <path d=\"M18.56 5.44l.94 2.06.94-2.06 2.06-.94-2.06-.94-.94-2.06-.94 2.06-2.06.94zm-11 1L8.5 8.5l.94-2.06 2.06-.94-2.06-.94L8.5 2.5l-.94 2.06-2.06.94zm10 10l.94 2.06.94-2.06 2.06-.94-2.06-.94-.94-2.06-.94 2.06-2.06.94z\"/><path d=\"M17.41 7.96l-1.37-1.37c-.4-.4-.92-.59-1.43-.59-.52 0-1.04.2-1.43.59L10.3 9.45l-7.72 7.72c-.78.78-.78 2.05 0 2.83L4 21.41c.39.39.9.59 1.41.59.51 0 1.02-.2 1.41-.59l7.78-7.78 2.81-2.81c.8-.78.8-2.07 0-2.86zM5.41 20L4 18.59l7.72-7.72 1.47 1.35L5.41 20z\"/>\n",
              "  </svg>\n",
              "      </button>\n",
              "      \n",
              "  <style>\n",
              "    .colab-df-container {\n",
              "      display:flex;\n",
              "      flex-wrap:wrap;\n",
              "      gap: 12px;\n",
              "    }\n",
              "\n",
              "    .colab-df-convert {\n",
              "      background-color: #E8F0FE;\n",
              "      border: none;\n",
              "      border-radius: 50%;\n",
              "      cursor: pointer;\n",
              "      display: none;\n",
              "      fill: #1967D2;\n",
              "      height: 32px;\n",
              "      padding: 0 0 0 0;\n",
              "      width: 32px;\n",
              "    }\n",
              "\n",
              "    .colab-df-convert:hover {\n",
              "      background-color: #E2EBFA;\n",
              "      box-shadow: 0px 1px 2px rgba(60, 64, 67, 0.3), 0px 1px 3px 1px rgba(60, 64, 67, 0.15);\n",
              "      fill: #174EA6;\n",
              "    }\n",
              "\n",
              "    [theme=dark] .colab-df-convert {\n",
              "      background-color: #3B4455;\n",
              "      fill: #D2E3FC;\n",
              "    }\n",
              "\n",
              "    [theme=dark] .colab-df-convert:hover {\n",
              "      background-color: #434B5C;\n",
              "      box-shadow: 0px 1px 3px 1px rgba(0, 0, 0, 0.15);\n",
              "      filter: drop-shadow(0px 1px 2px rgba(0, 0, 0, 0.3));\n",
              "      fill: #FFFFFF;\n",
              "    }\n",
              "  </style>\n",
              "\n",
              "      <script>\n",
              "        const buttonEl =\n",
              "          document.querySelector('#df-fdabfd3f-5313-4fd8-97fd-5b477badc1f6 button.colab-df-convert');\n",
              "        buttonEl.style.display =\n",
              "          google.colab.kernel.accessAllowed ? 'block' : 'none';\n",
              "\n",
              "        async function convertToInteractive(key) {\n",
              "          const element = document.querySelector('#df-fdabfd3f-5313-4fd8-97fd-5b477badc1f6');\n",
              "          const dataTable =\n",
              "            await google.colab.kernel.invokeFunction('convertToInteractive',\n",
              "                                                     [key], {});\n",
              "          if (!dataTable) return;\n",
              "\n",
              "          const docLinkHtml = 'Like what you see? Visit the ' +\n",
              "            '<a target=\"_blank\" href=https://colab.research.google.com/notebooks/data_table.ipynb>data table notebook</a>'\n",
              "            + ' to learn more about interactive tables.';\n",
              "          element.innerHTML = '';\n",
              "          dataTable['output_type'] = 'display_data';\n",
              "          await google.colab.output.renderOutput(dataTable, element);\n",
              "          const docLink = document.createElement('div');\n",
              "          docLink.innerHTML = docLinkHtml;\n",
              "          element.appendChild(docLink);\n",
              "        }\n",
              "      </script>\n",
              "    </div>\n",
              "  </div>\n",
              "  "
            ],
            "text/plain": [
              "   Organization Group Code Job Family Code Job Code Year Type  Year  \\\n",
              "0                        1            1000     1021  Calendar  2013   \n",
              "1                        1            1000     1023  Calendar  2013   \n",
              "2                        1            1000     1031  Calendar  2013   \n",
              "\n",
              "  Organization Group Department Code           Department  Union Code  \\\n",
              "0  Public Protection             ADP  ADP Adult Probation        21.0   \n",
              "1  Public Protection             ADP  ADP Adult Probation        21.0   \n",
              "2  Public Protection             ADP  ADP Adult Probation        21.0   \n",
              "\n",
              "                                             Union  ... Employee Identifier  \\\n",
              "0  Prof & Tech Engineers - Miscellaneous, Local 21  ...               37730   \n",
              "1  Prof & Tech Engineers - Miscellaneous, Local 21  ...               26574   \n",
              "2  Prof & Tech Engineers - Miscellaneous, Local 21  ...                8148   \n",
              "\n",
              "   Salaries  Overtime  Other Salaries  Total Salary  Retirement  \\\n",
              "0  57534.65       0.0             0.0      57534.65    11253.16   \n",
              "1  57678.50       0.0             0.0      57678.50    10284.88   \n",
              "2  63532.93       0.0             0.0      63532.93    12495.83   \n",
              "\n",
              "   Health and Dental  Other Benefits  Total Benefits  Total Compensation  \n",
              "0           11961.34         4532.63        27747.13            85281.78  \n",
              "1            7176.80         4755.14        22216.82            79895.32  \n",
              "2           12918.24         4702.71        30116.78            93649.71  \n",
              "\n",
              "[3 rows x 22 columns]"
            ]
          },
          "execution_count": 3,
          "metadata": {},
          "output_type": "execute_result"
        }
      ],
      "source": [
        "data.head(3)"
      ]
    },
    {
      "cell_type": "code",
      "execution_count": null,
      "metadata": {
        "colab": {
          "base_uri": "https://localhost:8080/"
        },
        "id": "5JtrKRDmXMNg",
        "outputId": "eaec4f23-057f-41a2-b91f-29ea427fcff9"
      },
      "outputs": [
        {
          "data": {
            "text/plain": [
              "(683277, 22)"
            ]
          },
          "execution_count": 4,
          "metadata": {},
          "output_type": "execute_result"
        }
      ],
      "source": [
        "data.shape"
      ]
    },
    {
      "cell_type": "code",
      "execution_count": null,
      "metadata": {
        "colab": {
          "base_uri": "https://localhost:8080/"
        },
        "id": "bLRyVIl9_dfr",
        "outputId": "9be22b9e-0f55-4458-9f60-3b56eab32eb3"
      },
      "outputs": [
        {
          "name": "stdout",
          "output_type": "stream",
          "text": [
            "<class 'pandas.core.frame.DataFrame'>\n",
            "RangeIndex: 683277 entries, 0 to 683276\n",
            "Data columns (total 22 columns):\n",
            " #   Column                   Non-Null Count   Dtype  \n",
            "---  ------                   --------------   -----  \n",
            " 0   Organization Group Code  683277 non-null  int64  \n",
            " 1   Job Family Code          683277 non-null  object \n",
            " 2   Job Code                 683277 non-null  object \n",
            " 3   Year Type                683277 non-null  object \n",
            " 4   Year                     683277 non-null  int64  \n",
            " 5   Organization Group       683277 non-null  object \n",
            " 6   Department Code          683275 non-null  object \n",
            " 7   Department               683275 non-null  object \n",
            " 8   Union Code               682926 non-null  float64\n",
            " 9   Union                    682926 non-null  object \n",
            " 10  Job Family               683277 non-null  object \n",
            " 11  Job                      683272 non-null  object \n",
            " 12  Employee Identifier      683277 non-null  int64  \n",
            " 13  Salaries                 683277 non-null  float64\n",
            " 14  Overtime                 683277 non-null  float64\n",
            " 15  Other Salaries           683277 non-null  float64\n",
            " 16  Total Salary             683277 non-null  float64\n",
            " 17  Retirement               683277 non-null  float64\n",
            " 18  Health and Dental        683277 non-null  float64\n",
            " 19  Other Benefits           683277 non-null  float64\n",
            " 20  Total Benefits           683277 non-null  float64\n",
            " 21  Total Compensation       683277 non-null  float64\n",
            "dtypes: float64(10), int64(3), object(9)\n",
            "memory usage: 114.7+ MB\n"
          ]
        }
      ],
      "source": [
        "data.info()"
      ]
    },
    {
      "cell_type": "code",
      "execution_count": null,
      "metadata": {
        "colab": {
          "base_uri": "https://localhost:8080/"
        },
        "id": "HL44ZTch_kLU",
        "outputId": "91e47160-8b5f-4019-bf9b-0fa6fd35b8a9"
      },
      "outputs": [
        {
          "data": {
            "text/plain": [
              "Index(['Organization Group Code', 'Job Family Code', 'Job Code', 'Year Type',\n",
              "       'Year', 'Organization Group', 'Department Code', 'Department',\n",
              "       'Union Code', 'Union', 'Job Family', 'Job', 'Employee Identifier',\n",
              "       'Salaries', 'Overtime', 'Other Salaries', 'Total Salary', 'Retirement',\n",
              "       'Health and Dental', 'Other Benefits', 'Total Benefits',\n",
              "       'Total Compensation'],\n",
              "      dtype='object')"
            ]
          },
          "execution_count": 6,
          "metadata": {},
          "output_type": "execute_result"
        }
      ],
      "source": [
        "data.columns"
      ]
    },
    {
      "cell_type": "code",
      "execution_count": null,
      "metadata": {
        "colab": {
          "base_uri": "https://localhost:8080/"
        },
        "id": "lc2UWdIb_qrj",
        "outputId": "a678faa6-eef7-4a14-afe9-0519bcb4deb5"
      },
      "outputs": [
        {
          "data": {
            "text/plain": [
              "Organization Group Code      0\n",
              "Job Family Code              0\n",
              "Job Code                     0\n",
              "Year Type                    0\n",
              "Year                         0\n",
              "Organization Group           0\n",
              "Department Code              2\n",
              "Department                   2\n",
              "Union Code                 351\n",
              "Union                      351\n",
              "Job Family                   0\n",
              "Job                          5\n",
              "Employee Identifier          0\n",
              "Salaries                     0\n",
              "Overtime                     0\n",
              "Other Salaries               0\n",
              "Total Salary                 0\n",
              "Retirement                   0\n",
              "Health and Dental            0\n",
              "Other Benefits               0\n",
              "Total Benefits               0\n",
              "Total Compensation           0\n",
              "dtype: int64"
            ]
          },
          "execution_count": 7,
          "metadata": {},
          "output_type": "execute_result"
        }
      ],
      "source": [
        "data.isna().sum()"
      ]
    },
    {
      "cell_type": "code",
      "execution_count": null,
      "metadata": {
        "id": "f482jkQl_wap"
      },
      "outputs": [],
      "source": [
        "df=data.dropna()"
      ]
    },
    {
      "cell_type": "code",
      "execution_count": null,
      "metadata": {
        "id": "wdKfONUwEYRH"
      },
      "outputs": [],
      "source": [
        ""
      ]
    },
    {
      "cell_type": "code",
      "execution_count": null,
      "metadata": {
        "colab": {
          "base_uri": "https://localhost:8080/"
        },
        "id": "QANFCHpuBIye",
        "outputId": "0b66db1a-4dd9-4a73-a05f-630c6ed31248"
      },
      "outputs": [
        {
          "data": {
            "text/plain": [
              "Organization Group Code    0\n",
              "Job Family Code            0\n",
              "Job Code                   0\n",
              "Year Type                  0\n",
              "Year                       0\n",
              "Organization Group         0\n",
              "Department Code            0\n",
              "Department                 0\n",
              "Union Code                 0\n",
              "Union                      0\n",
              "Job Family                 0\n",
              "Job                        0\n",
              "Employee Identifier        0\n",
              "Salaries                   0\n",
              "Overtime                   0\n",
              "Other Salaries             0\n",
              "Total Salary               0\n",
              "Retirement                 0\n",
              "Health and Dental          0\n",
              "Other Benefits             0\n",
              "Total Benefits             0\n",
              "Total Compensation         0\n",
              "dtype: int64"
            ]
          },
          "execution_count": 9,
          "metadata": {},
          "output_type": "execute_result"
        }
      ],
      "source": [
        "df.isna().sum()"
      ]
    },
    {
      "cell_type": "code",
      "execution_count": null,
      "metadata": {
        "colab": {
          "base_uri": "https://localhost:8080/",
          "height": 304
        },
        "id": "X1cLONf4E487",
        "outputId": "51f1b362-48da-40ee-8dea-702f4220806e"
      },
      "outputs": [
        {
          "data": {
            "text/html": [
              "\n",
              "  <div id=\"df-46517b15-203c-480e-b1cf-64611ea3ad47\">\n",
              "    <div class=\"colab-df-container\">\n",
              "      <div>\n",
              "<style scoped>\n",
              "    .dataframe tbody tr th:only-of-type {\n",
              "        vertical-align: middle;\n",
              "    }\n",
              "\n",
              "    .dataframe tbody tr th {\n",
              "        vertical-align: top;\n",
              "    }\n",
              "\n",
              "    .dataframe thead th {\n",
              "        text-align: right;\n",
              "    }\n",
              "</style>\n",
              "<table border=\"1\" class=\"dataframe\">\n",
              "  <thead>\n",
              "    <tr style=\"text-align: right;\">\n",
              "      <th></th>\n",
              "      <th>Organization Group Code</th>\n",
              "      <th>Year</th>\n",
              "      <th>Union Code</th>\n",
              "      <th>Employee Identifier</th>\n",
              "      <th>Salaries</th>\n",
              "      <th>Overtime</th>\n",
              "      <th>Other Salaries</th>\n",
              "      <th>Total Salary</th>\n",
              "      <th>Retirement</th>\n",
              "      <th>Health and Dental</th>\n",
              "      <th>Other Benefits</th>\n",
              "      <th>Total Benefits</th>\n",
              "      <th>Total Compensation</th>\n",
              "    </tr>\n",
              "  </thead>\n",
              "  <tbody>\n",
              "    <tr>\n",
              "      <th>0</th>\n",
              "      <td>1</td>\n",
              "      <td>2013</td>\n",
              "      <td>21.0</td>\n",
              "      <td>37730</td>\n",
              "      <td>57534.65</td>\n",
              "      <td>0.0</td>\n",
              "      <td>0.00</td>\n",
              "      <td>57534.65</td>\n",
              "      <td>11253.16</td>\n",
              "      <td>11961.34</td>\n",
              "      <td>4532.63</td>\n",
              "      <td>27747.13</td>\n",
              "      <td>85281.78</td>\n",
              "    </tr>\n",
              "    <tr>\n",
              "      <th>1</th>\n",
              "      <td>1</td>\n",
              "      <td>2013</td>\n",
              "      <td>21.0</td>\n",
              "      <td>26574</td>\n",
              "      <td>57678.50</td>\n",
              "      <td>0.0</td>\n",
              "      <td>0.00</td>\n",
              "      <td>57678.50</td>\n",
              "      <td>10284.88</td>\n",
              "      <td>7176.80</td>\n",
              "      <td>4755.14</td>\n",
              "      <td>22216.82</td>\n",
              "      <td>79895.32</td>\n",
              "    </tr>\n",
              "    <tr>\n",
              "      <th>2</th>\n",
              "      <td>1</td>\n",
              "      <td>2013</td>\n",
              "      <td>21.0</td>\n",
              "      <td>8148</td>\n",
              "      <td>63532.93</td>\n",
              "      <td>0.0</td>\n",
              "      <td>0.00</td>\n",
              "      <td>63532.93</td>\n",
              "      <td>12495.83</td>\n",
              "      <td>12918.24</td>\n",
              "      <td>4702.71</td>\n",
              "      <td>30116.78</td>\n",
              "      <td>93649.71</td>\n",
              "    </tr>\n",
              "    <tr>\n",
              "      <th>3</th>\n",
              "      <td>1</td>\n",
              "      <td>2013</td>\n",
              "      <td>21.0</td>\n",
              "      <td>27436</td>\n",
              "      <td>101274.51</td>\n",
              "      <td>0.0</td>\n",
              "      <td>-7058.59</td>\n",
              "      <td>94215.92</td>\n",
              "      <td>19644.45</td>\n",
              "      <td>12918.24</td>\n",
              "      <td>7458.76</td>\n",
              "      <td>40021.45</td>\n",
              "      <td>134237.37</td>\n",
              "    </tr>\n",
              "    <tr>\n",
              "      <th>4</th>\n",
              "      <td>1</td>\n",
              "      <td>2013</td>\n",
              "      <td>21.0</td>\n",
              "      <td>37730</td>\n",
              "      <td>5084.00</td>\n",
              "      <td>0.0</td>\n",
              "      <td>0.00</td>\n",
              "      <td>5084.00</td>\n",
              "      <td>1083.90</td>\n",
              "      <td>956.91</td>\n",
              "      <td>387.50</td>\n",
              "      <td>2428.31</td>\n",
              "      <td>7512.31</td>\n",
              "    </tr>\n",
              "  </tbody>\n",
              "</table>\n",
              "</div>\n",
              "      <button class=\"colab-df-convert\" onclick=\"convertToInteractive('df-46517b15-203c-480e-b1cf-64611ea3ad47')\"\n",
              "              title=\"Convert this dataframe to an interactive table.\"\n",
              "              style=\"display:none;\">\n",
              "        \n",
              "  <svg xmlns=\"http://www.w3.org/2000/svg\" height=\"24px\"viewBox=\"0 0 24 24\"\n",
              "       width=\"24px\">\n",
              "    <path d=\"M0 0h24v24H0V0z\" fill=\"none\"/>\n",
              "    <path d=\"M18.56 5.44l.94 2.06.94-2.06 2.06-.94-2.06-.94-.94-2.06-.94 2.06-2.06.94zm-11 1L8.5 8.5l.94-2.06 2.06-.94-2.06-.94L8.5 2.5l-.94 2.06-2.06.94zm10 10l.94 2.06.94-2.06 2.06-.94-2.06-.94-.94-2.06-.94 2.06-2.06.94z\"/><path d=\"M17.41 7.96l-1.37-1.37c-.4-.4-.92-.59-1.43-.59-.52 0-1.04.2-1.43.59L10.3 9.45l-7.72 7.72c-.78.78-.78 2.05 0 2.83L4 21.41c.39.39.9.59 1.41.59.51 0 1.02-.2 1.41-.59l7.78-7.78 2.81-2.81c.8-.78.8-2.07 0-2.86zM5.41 20L4 18.59l7.72-7.72 1.47 1.35L5.41 20z\"/>\n",
              "  </svg>\n",
              "      </button>\n",
              "      \n",
              "  <style>\n",
              "    .colab-df-container {\n",
              "      display:flex;\n",
              "      flex-wrap:wrap;\n",
              "      gap: 12px;\n",
              "    }\n",
              "\n",
              "    .colab-df-convert {\n",
              "      background-color: #E8F0FE;\n",
              "      border: none;\n",
              "      border-radius: 50%;\n",
              "      cursor: pointer;\n",
              "      display: none;\n",
              "      fill: #1967D2;\n",
              "      height: 32px;\n",
              "      padding: 0 0 0 0;\n",
              "      width: 32px;\n",
              "    }\n",
              "\n",
              "    .colab-df-convert:hover {\n",
              "      background-color: #E2EBFA;\n",
              "      box-shadow: 0px 1px 2px rgba(60, 64, 67, 0.3), 0px 1px 3px 1px rgba(60, 64, 67, 0.15);\n",
              "      fill: #174EA6;\n",
              "    }\n",
              "\n",
              "    [theme=dark] .colab-df-convert {\n",
              "      background-color: #3B4455;\n",
              "      fill: #D2E3FC;\n",
              "    }\n",
              "\n",
              "    [theme=dark] .colab-df-convert:hover {\n",
              "      background-color: #434B5C;\n",
              "      box-shadow: 0px 1px 3px 1px rgba(0, 0, 0, 0.15);\n",
              "      filter: drop-shadow(0px 1px 2px rgba(0, 0, 0, 0.3));\n",
              "      fill: #FFFFFF;\n",
              "    }\n",
              "  </style>\n",
              "\n",
              "      <script>\n",
              "        const buttonEl =\n",
              "          document.querySelector('#df-46517b15-203c-480e-b1cf-64611ea3ad47 button.colab-df-convert');\n",
              "        buttonEl.style.display =\n",
              "          google.colab.kernel.accessAllowed ? 'block' : 'none';\n",
              "\n",
              "        async function convertToInteractive(key) {\n",
              "          const element = document.querySelector('#df-46517b15-203c-480e-b1cf-64611ea3ad47');\n",
              "          const dataTable =\n",
              "            await google.colab.kernel.invokeFunction('convertToInteractive',\n",
              "                                                     [key], {});\n",
              "          if (!dataTable) return;\n",
              "\n",
              "          const docLinkHtml = 'Like what you see? Visit the ' +\n",
              "            '<a target=\"_blank\" href=https://colab.research.google.com/notebooks/data_table.ipynb>data table notebook</a>'\n",
              "            + ' to learn more about interactive tables.';\n",
              "          element.innerHTML = '';\n",
              "          dataTable['output_type'] = 'display_data';\n",
              "          await google.colab.output.renderOutput(dataTable, element);\n",
              "          const docLink = document.createElement('div');\n",
              "          docLink.innerHTML = docLinkHtml;\n",
              "          element.appendChild(docLink);\n",
              "        }\n",
              "      </script>\n",
              "    </div>\n",
              "  </div>\n",
              "  "
            ],
            "text/plain": [
              "   Organization Group Code  Year  Union Code  Employee Identifier   Salaries  \\\n",
              "0                        1  2013        21.0                37730   57534.65   \n",
              "1                        1  2013        21.0                26574   57678.50   \n",
              "2                        1  2013        21.0                 8148   63532.93   \n",
              "3                        1  2013        21.0                27436  101274.51   \n",
              "4                        1  2013        21.0                37730    5084.00   \n",
              "\n",
              "   Overtime  Other Salaries  Total Salary  Retirement  Health and Dental  \\\n",
              "0       0.0            0.00      57534.65    11253.16           11961.34   \n",
              "1       0.0            0.00      57678.50    10284.88            7176.80   \n",
              "2       0.0            0.00      63532.93    12495.83           12918.24   \n",
              "3       0.0        -7058.59      94215.92    19644.45           12918.24   \n",
              "4       0.0            0.00       5084.00     1083.90             956.91   \n",
              "\n",
              "   Other Benefits  Total Benefits  Total Compensation  \n",
              "0         4532.63        27747.13            85281.78  \n",
              "1         4755.14        22216.82            79895.32  \n",
              "2         4702.71        30116.78            93649.71  \n",
              "3         7458.76        40021.45           134237.37  \n",
              "4          387.50         2428.31             7512.31  "
            ]
          },
          "execution_count": 10,
          "metadata": {},
          "output_type": "execute_result"
        }
      ],
      "source": [
        "df =df.select_dtypes(include=('int64','float64'))\n",
        "df.head()"
      ]
    },
    {
      "cell_type": "code",
      "execution_count": null,
      "metadata": {
        "colab": {
          "base_uri": "https://localhost:8080/"
        },
        "id": "jemQHUMAGdJ1",
        "outputId": "a25e39ee-583a-4a44-9283-19d463bde063"
      },
      "outputs": [
        {
          "data": {
            "text/plain": [
              "Index(['Organization Group Code', 'Year', 'Union Code', 'Employee Identifier',\n",
              "       'Salaries', 'Overtime', 'Other Salaries', 'Total Salary', 'Retirement',\n",
              "       'Health and Dental', 'Other Benefits', 'Total Benefits',\n",
              "       'Total Compensation'],\n",
              "      dtype='object')"
            ]
          },
          "execution_count": 11,
          "metadata": {},
          "output_type": "execute_result"
        }
      ],
      "source": [
        "df.columns"
      ]
    },
    {
      "cell_type": "code",
      "execution_count": null,
      "metadata": {
        "colab": {
          "base_uri": "https://localhost:8080/",
          "height": 304
        },
        "id": "OzBpWPSWE5Cy",
        "outputId": "df02be75-bfba-4602-afc9-259c179ed1d0"
      },
      "outputs": [
        {
          "data": {
            "text/html": [
              "\n",
              "  <div id=\"df-0425d1e2-3906-4a55-b33e-7b6c4edc37d8\">\n",
              "    <div class=\"colab-df-container\">\n",
              "      <div>\n",
              "<style scoped>\n",
              "    .dataframe tbody tr th:only-of-type {\n",
              "        vertical-align: middle;\n",
              "    }\n",
              "\n",
              "    .dataframe tbody tr th {\n",
              "        vertical-align: top;\n",
              "    }\n",
              "\n",
              "    .dataframe thead th {\n",
              "        text-align: right;\n",
              "    }\n",
              "</style>\n",
              "<table border=\"1\" class=\"dataframe\">\n",
              "  <thead>\n",
              "    <tr style=\"text-align: right;\">\n",
              "      <th></th>\n",
              "      <th>Organization Group Code</th>\n",
              "      <th>Year</th>\n",
              "      <th>Union Code</th>\n",
              "      <th>Employee Identifier</th>\n",
              "      <th>Salaries</th>\n",
              "      <th>Overtime</th>\n",
              "      <th>Other Salaries</th>\n",
              "      <th>Total Salary</th>\n",
              "      <th>Retirement</th>\n",
              "      <th>Health and Dental</th>\n",
              "      <th>Other Benefits</th>\n",
              "      <th>Total Benefits</th>\n",
              "      <th>Total Compensation</th>\n",
              "    </tr>\n",
              "  </thead>\n",
              "  <tbody>\n",
              "    <tr>\n",
              "      <th>0</th>\n",
              "      <td>1</td>\n",
              "      <td>2013</td>\n",
              "      <td>21.0</td>\n",
              "      <td>37730</td>\n",
              "      <td>57534.65</td>\n",
              "      <td>0.0</td>\n",
              "      <td>0.00</td>\n",
              "      <td>57534.65</td>\n",
              "      <td>11253.16</td>\n",
              "      <td>11961.34</td>\n",
              "      <td>4532.63</td>\n",
              "      <td>27747.13</td>\n",
              "      <td>85281.78</td>\n",
              "    </tr>\n",
              "    <tr>\n",
              "      <th>1</th>\n",
              "      <td>1</td>\n",
              "      <td>2013</td>\n",
              "      <td>21.0</td>\n",
              "      <td>26574</td>\n",
              "      <td>57678.50</td>\n",
              "      <td>0.0</td>\n",
              "      <td>0.00</td>\n",
              "      <td>57678.50</td>\n",
              "      <td>10284.88</td>\n",
              "      <td>7176.80</td>\n",
              "      <td>4755.14</td>\n",
              "      <td>22216.82</td>\n",
              "      <td>79895.32</td>\n",
              "    </tr>\n",
              "    <tr>\n",
              "      <th>2</th>\n",
              "      <td>1</td>\n",
              "      <td>2013</td>\n",
              "      <td>21.0</td>\n",
              "      <td>8148</td>\n",
              "      <td>63532.93</td>\n",
              "      <td>0.0</td>\n",
              "      <td>0.00</td>\n",
              "      <td>63532.93</td>\n",
              "      <td>12495.83</td>\n",
              "      <td>12918.24</td>\n",
              "      <td>4702.71</td>\n",
              "      <td>30116.78</td>\n",
              "      <td>93649.71</td>\n",
              "    </tr>\n",
              "    <tr>\n",
              "      <th>3</th>\n",
              "      <td>1</td>\n",
              "      <td>2013</td>\n",
              "      <td>21.0</td>\n",
              "      <td>27436</td>\n",
              "      <td>101274.51</td>\n",
              "      <td>0.0</td>\n",
              "      <td>-7058.59</td>\n",
              "      <td>94215.92</td>\n",
              "      <td>19644.45</td>\n",
              "      <td>12918.24</td>\n",
              "      <td>7458.76</td>\n",
              "      <td>40021.45</td>\n",
              "      <td>134237.37</td>\n",
              "    </tr>\n",
              "    <tr>\n",
              "      <th>4</th>\n",
              "      <td>1</td>\n",
              "      <td>2013</td>\n",
              "      <td>21.0</td>\n",
              "      <td>37730</td>\n",
              "      <td>5084.00</td>\n",
              "      <td>0.0</td>\n",
              "      <td>0.00</td>\n",
              "      <td>5084.00</td>\n",
              "      <td>1083.90</td>\n",
              "      <td>956.91</td>\n",
              "      <td>387.50</td>\n",
              "      <td>2428.31</td>\n",
              "      <td>7512.31</td>\n",
              "    </tr>\n",
              "  </tbody>\n",
              "</table>\n",
              "</div>\n",
              "      <button class=\"colab-df-convert\" onclick=\"convertToInteractive('df-0425d1e2-3906-4a55-b33e-7b6c4edc37d8')\"\n",
              "              title=\"Convert this dataframe to an interactive table.\"\n",
              "              style=\"display:none;\">\n",
              "        \n",
              "  <svg xmlns=\"http://www.w3.org/2000/svg\" height=\"24px\"viewBox=\"0 0 24 24\"\n",
              "       width=\"24px\">\n",
              "    <path d=\"M0 0h24v24H0V0z\" fill=\"none\"/>\n",
              "    <path d=\"M18.56 5.44l.94 2.06.94-2.06 2.06-.94-2.06-.94-.94-2.06-.94 2.06-2.06.94zm-11 1L8.5 8.5l.94-2.06 2.06-.94-2.06-.94L8.5 2.5l-.94 2.06-2.06.94zm10 10l.94 2.06.94-2.06 2.06-.94-2.06-.94-.94-2.06-.94 2.06-2.06.94z\"/><path d=\"M17.41 7.96l-1.37-1.37c-.4-.4-.92-.59-1.43-.59-.52 0-1.04.2-1.43.59L10.3 9.45l-7.72 7.72c-.78.78-.78 2.05 0 2.83L4 21.41c.39.39.9.59 1.41.59.51 0 1.02-.2 1.41-.59l7.78-7.78 2.81-2.81c.8-.78.8-2.07 0-2.86zM5.41 20L4 18.59l7.72-7.72 1.47 1.35L5.41 20z\"/>\n",
              "  </svg>\n",
              "      </button>\n",
              "      \n",
              "  <style>\n",
              "    .colab-df-container {\n",
              "      display:flex;\n",
              "      flex-wrap:wrap;\n",
              "      gap: 12px;\n",
              "    }\n",
              "\n",
              "    .colab-df-convert {\n",
              "      background-color: #E8F0FE;\n",
              "      border: none;\n",
              "      border-radius: 50%;\n",
              "      cursor: pointer;\n",
              "      display: none;\n",
              "      fill: #1967D2;\n",
              "      height: 32px;\n",
              "      padding: 0 0 0 0;\n",
              "      width: 32px;\n",
              "    }\n",
              "\n",
              "    .colab-df-convert:hover {\n",
              "      background-color: #E2EBFA;\n",
              "      box-shadow: 0px 1px 2px rgba(60, 64, 67, 0.3), 0px 1px 3px 1px rgba(60, 64, 67, 0.15);\n",
              "      fill: #174EA6;\n",
              "    }\n",
              "\n",
              "    [theme=dark] .colab-df-convert {\n",
              "      background-color: #3B4455;\n",
              "      fill: #D2E3FC;\n",
              "    }\n",
              "\n",
              "    [theme=dark] .colab-df-convert:hover {\n",
              "      background-color: #434B5C;\n",
              "      box-shadow: 0px 1px 3px 1px rgba(0, 0, 0, 0.15);\n",
              "      filter: drop-shadow(0px 1px 2px rgba(0, 0, 0, 0.3));\n",
              "      fill: #FFFFFF;\n",
              "    }\n",
              "  </style>\n",
              "\n",
              "      <script>\n",
              "        const buttonEl =\n",
              "          document.querySelector('#df-0425d1e2-3906-4a55-b33e-7b6c4edc37d8 button.colab-df-convert');\n",
              "        buttonEl.style.display =\n",
              "          google.colab.kernel.accessAllowed ? 'block' : 'none';\n",
              "\n",
              "        async function convertToInteractive(key) {\n",
              "          const element = document.querySelector('#df-0425d1e2-3906-4a55-b33e-7b6c4edc37d8');\n",
              "          const dataTable =\n",
              "            await google.colab.kernel.invokeFunction('convertToInteractive',\n",
              "                                                     [key], {});\n",
              "          if (!dataTable) return;\n",
              "\n",
              "          const docLinkHtml = 'Like what you see? Visit the ' +\n",
              "            '<a target=\"_blank\" href=https://colab.research.google.com/notebooks/data_table.ipynb>data table notebook</a>'\n",
              "            + ' to learn more about interactive tables.';\n",
              "          element.innerHTML = '';\n",
              "          dataTable['output_type'] = 'display_data';\n",
              "          await google.colab.output.renderOutput(dataTable, element);\n",
              "          const docLink = document.createElement('div');\n",
              "          docLink.innerHTML = docLinkHtml;\n",
              "          element.appendChild(docLink);\n",
              "        }\n",
              "      </script>\n",
              "    </div>\n",
              "  </div>\n",
              "  "
            ],
            "text/plain": [
              "   Organization Group Code  Year  Union Code  Employee Identifier   Salaries  \\\n",
              "0                        1  2013        21.0                37730   57534.65   \n",
              "1                        1  2013        21.0                26574   57678.50   \n",
              "2                        1  2013        21.0                 8148   63532.93   \n",
              "3                        1  2013        21.0                27436  101274.51   \n",
              "4                        1  2013        21.0                37730    5084.00   \n",
              "\n",
              "   Overtime  Other Salaries  Total Salary  Retirement  Health and Dental  \\\n",
              "0       0.0            0.00      57534.65    11253.16           11961.34   \n",
              "1       0.0            0.00      57678.50    10284.88            7176.80   \n",
              "2       0.0            0.00      63532.93    12495.83           12918.24   \n",
              "3       0.0        -7058.59      94215.92    19644.45           12918.24   \n",
              "4       0.0            0.00       5084.00     1083.90             956.91   \n",
              "\n",
              "   Other Benefits  Total Benefits  Total Compensation  \n",
              "0         4532.63        27747.13            85281.78  \n",
              "1         4755.14        22216.82            79895.32  \n",
              "2         4702.71        30116.78            93649.71  \n",
              "3         7458.76        40021.45           134237.37  \n",
              "4          387.50         2428.31             7512.31  "
            ]
          },
          "execution_count": 12,
          "metadata": {},
          "output_type": "execute_result"
        }
      ],
      "source": [
        "df.head()"
      ]
    },
    {
      "cell_type": "code",
      "execution_count": null,
      "metadata": {
        "colab": {
          "base_uri": "https://localhost:8080/",
          "height": 862
        },
        "id": "9CX2mThw8DB6",
        "outputId": "8471fb4c-883a-4535-b0ba-de899f44c119"
      },
      "outputs": [
        {
          "data": {
            "text/plain": [
              "<matplotlib.axes._subplots.AxesSubplot at 0x7f25ddb43790>"
            ]
          },
          "execution_count": 13,
          "metadata": {},
          "output_type": "execute_result"
        },
        {
          "data": {
            "image/png": "[encoded data removed]",
            "text/plain": [
              "<Figure size 1440x1440 with 2 Axes>"
            ]
          },
          "metadata": {},
          "output_type": "display_data"
        }
      ],
      "source": [
        "plt.figure(figsize=(20,20))\n",
        "sns.heatmap(df.corr(),annot=True)"
      ]
    },
    {
      "cell_type": "code",
      "execution_count": null,
      "metadata": {
        "id": "E61Bf6Ea9RNQ"
      },
      "outputs": [],
      "source": [
        "df2 = df.drop(['Organization Group Code', 'Year', 'Union Code', 'Employee Identifier',\n",
        "       'Salaries', 'Overtime', 'Other Salaries', 'Total Salary', 'Retirement',\n",
        "       'Health and Dental', 'Other Benefits', 'Total Benefits',\n",
        "       'Total Compensation'], axis=1)"
      ]
    },
    {
      "cell_type": "code",
      "execution_count": null,
      "metadata": {
        "colab": {
          "base_uri": "https://localhost:8080/",
          "height": 206
        },
        "id": "jreW-64X85s5",
        "outputId": "121500b4-6f5f-48a7-937a-c8276711c1db"
      },
      "outputs": [
        {
          "data": {
            "text/html": [
              "\n",
              "  <div id=\"df-651f4742-6d25-4d48-8715-2f5f20c1a9b1\">\n",
              "    <div class=\"colab-df-container\">\n",
              "      <div>\n",
              "<style scoped>\n",
              "    .dataframe tbody tr th:only-of-type {\n",
              "        vertical-align: middle;\n",
              "    }\n",
              "\n",
              "    .dataframe tbody tr th {\n",
              "        vertical-align: top;\n",
              "    }\n",
              "\n",
              "    .dataframe thead th {\n",
              "        text-align: right;\n",
              "    }\n",
              "</style>\n",
              "<table border=\"1\" class=\"dataframe\">\n",
              "  <thead>\n",
              "    <tr style=\"text-align: right;\">\n",
              "      <th></th>\n",
              "      <th>Total Compensation</th>\n",
              "      <th>Retirement_and_health</th>\n",
              "    </tr>\n",
              "  </thead>\n",
              "  <tbody>\n",
              "    <tr>\n",
              "      <th>0</th>\n",
              "      <td>85281.78</td>\n",
              "      <td>23214.50</td>\n",
              "    </tr>\n",
              "    <tr>\n",
              "      <th>1</th>\n",
              "      <td>79895.32</td>\n",
              "      <td>17461.68</td>\n",
              "    </tr>\n",
              "    <tr>\n",
              "      <th>2</th>\n",
              "      <td>93649.71</td>\n",
              "      <td>25414.07</td>\n",
              "    </tr>\n",
              "    <tr>\n",
              "      <th>3</th>\n",
              "      <td>134237.37</td>\n",
              "      <td>32562.69</td>\n",
              "    </tr>\n",
              "    <tr>\n",
              "      <th>4</th>\n",
              "      <td>7512.31</td>\n",
              "      <td>2040.81</td>\n",
              "    </tr>\n",
              "  </tbody>\n",
              "</table>\n",
              "</div>\n",
              "      <button class=\"colab-df-convert\" onclick=\"convertToInteractive('df-651f4742-6d25-4d48-8715-2f5f20c1a9b1')\"\n",
              "              title=\"Convert this dataframe to an interactive table.\"\n",
              "              style=\"display:none;\">\n",
              "        \n",
              "  <svg xmlns=\"http://www.w3.org/2000/svg\" height=\"24px\"viewBox=\"0 0 24 24\"\n",
              "       width=\"24px\">\n",
              "    <path d=\"M0 0h24v24H0V0z\" fill=\"none\"/>\n",
              "    <path d=\"M18.56 5.44l.94 2.06.94-2.06 2.06-.94-2.06-.94-.94-2.06-.94 2.06-2.06.94zm-11 1L8.5 8.5l.94-2.06 2.06-.94-2.06-.94L8.5 2.5l-.94 2.06-2.06.94zm10 10l.94 2.06.94-2.06 2.06-.94-2.06-.94-.94-2.06-.94 2.06-2.06.94z\"/><path d=\"M17.41 7.96l-1.37-1.37c-.4-.4-.92-.59-1.43-.59-.52 0-1.04.2-1.43.59L10.3 9.45l-7.72 7.72c-.78.78-.78 2.05 0 2.83L4 21.41c.39.39.9.59 1.41.59.51 0 1.02-.2 1.41-.59l7.78-7.78 2.81-2.81c.8-.78.8-2.07 0-2.86zM5.41 20L4 18.59l7.72-7.72 1.47 1.35L5.41 20z\"/>\n",
              "  </svg>\n",
              "      </button>\n",
              "      \n",
              "  <style>\n",
              "    .colab-df-container {\n",
              "      display:flex;\n",
              "      flex-wrap:wrap;\n",
              "      gap: 12px;\n",
              "    }\n",
              "\n",
              "    .colab-df-convert {\n",
              "      background-color: #E8F0FE;\n",
              "      border: none;\n",
              "      border-radius: 50%;\n",
              "      cursor: pointer;\n",
              "      display: none;\n",
              "      fill: #1967D2;\n",
              "      height: 32px;\n",
              "      padding: 0 0 0 0;\n",
              "      width: 32px;\n",
              "    }\n",
              "\n",
              "    .colab-df-convert:hover {\n",
              "      background-color: #E2EBFA;\n",
              "      box-shadow: 0px 1px 2px rgba(60, 64, 67, 0.3), 0px 1px 3px 1px rgba(60, 64, 67, 0.15);\n",
              "      fill: #174EA6;\n",
              "    }\n",
              "\n",
              "    [theme=dark] .colab-df-convert {\n",
              "      background-color: #3B4455;\n",
              "      fill: #D2E3FC;\n",
              "    }\n",
              "\n",
              "    [theme=dark] .colab-df-convert:hover {\n",
              "      background-color: #434B5C;\n",
              "      box-shadow: 0px 1px 3px 1px rgba(0, 0, 0, 0.15);\n",
              "      filter: drop-shadow(0px 1px 2px rgba(0, 0, 0, 0.3));\n",
              "      fill: #FFFFFF;\n",
              "    }\n",
              "  </style>\n",
              "\n",
              "      <script>\n",
              "        const buttonEl =\n",
              "          document.querySelector('#df-651f4742-6d25-4d48-8715-2f5f20c1a9b1 button.colab-df-convert');\n",
              "        buttonEl.style.display =\n",
              "          google.colab.kernel.accessAllowed ? 'block' : 'none';\n",
              "\n",
              "        async function convertToInteractive(key) {\n",
              "          const element = document.querySelector('#df-651f4742-6d25-4d48-8715-2f5f20c1a9b1');\n",
              "          const dataTable =\n",
              "            await google.colab.kernel.invokeFunction('convertToInteractive',\n",
              "                                                     [key], {});\n",
              "          if (!dataTable) return;\n",
              "\n",
              "          const docLinkHtml = 'Like what you see? Visit the ' +\n",
              "            '<a target=\"_blank\" href=https://colab.research.google.com/notebooks/data_table.ipynb>data table notebook</a>'\n",
              "            + ' to learn more about interactive tables.';\n",
              "          element.innerHTML = '';\n",
              "          dataTable['output_type'] = 'display_data';\n",
              "          await google.colab.output.renderOutput(dataTable, element);\n",
              "          const docLink = document.createElement('div');\n",
              "          docLink.innerHTML = docLinkHtml;\n",
              "          element.appendChild(docLink);\n",
              "        }\n",
              "      </script>\n",
              "    </div>\n",
              "  </div>\n",
              "  "
            ],
            "text/plain": [
              "   Total Compensation  Retirement_and_health\n",
              "0            85281.78               23214.50\n",
              "1            79895.32               17461.68\n",
              "2            93649.71               25414.07\n",
              "3           134237.37               32562.69\n",
              "4             7512.31                2040.81"
            ]
          },
          "execution_count": 15,
          "metadata": {},
          "output_type": "execute_result"
        }
      ],
      "source": [
        "df2['Total Compensation'] = df['Total Compensation']\n",
        "df2['Retirement_and_health'] = df['Retirement'] + df['Health and Dental']\n",
        "df2.head()"
      ]
    },
    {
      "cell_type": "code",
      "execution_count": null,
      "metadata": {
        "colab": {
          "base_uri": "https://localhost:8080/",
          "height": 346
        },
        "id": "WzDOEc8Z-imS",
        "outputId": "15e4806c-75cf-47a8-cf68-2b8c605e6c8e"
      },
      "outputs": [
        {
          "name": "stderr",
          "output_type": "stream",
          "text": [
            "/usr/local/lib/python3.7/dist-packages/seaborn/distributions.py:2619: FutureWarning: `distplot` is a deprecated function and will be removed in a future version. Please adapt your code to use either `displot` (a figure-level function with similar flexibility) or `histplot` (an axes-level function for histograms).\n",
            "  warnings.warn(msg, FutureWarning)\n"
          ]
        },
        {
          "data": {
            "image/png": "[encoded data removed]",
            "text/plain": [
              "<Figure size 432x288 with 1 Axes>"
            ]
          },
          "metadata": {},
          "output_type": "display_data"
        }
      ],
      "source": [
        "sns.distplot(df2['Total Compensation'])\n",
        "plt.show()"
      ]
    },
    {
      "cell_type": "code",
      "execution_count": null,
      "metadata": {
        "colab": {
          "base_uri": "https://localhost:8080/"
        },
        "id": "VMV9Sci7_HIp",
        "outputId": "6fc882ce-a0fd-41c5-c4e3-cac1a4a9342f"
      },
      "outputs": [
        {
          "name": "stdout",
          "output_type": "stream",
          "text": [
            "Skewness: 0.409119326382282\n",
            "Kurtosis: 0.020115932230928113\n"
          ]
        }
      ],
      "source": [
        "print('Skewness:',df2['Total Compensation'].skew())\n",
        "print('Kurtosis:',df2['Total Compensation'].kurt())"
      ]
    },
    {
      "cell_type": "code",
      "execution_count": null,
      "metadata": {
        "id": "GE8S8GcZ_1Hf"
      },
      "outputs": [],
      "source": [
        "from sklearn.cluster import KMeans\n",
        "x = df2.values\n",
        "wcss = []\n",
        "for k in range(1,11):\n",
        "  kmean = KMeans(n_clusters=k)\n",
        "  kmean.fit(x)\n",
        "  wcss.append(kmean.inertia_)\n",
        "\n"
      ]
    },
    {
      "cell_type": "code",
      "execution_count": null,
      "metadata": {
        "colab": {
          "base_uri": "https://localhost:8080/",
          "height": 293
        },
        "id": "FR2gteX6WNaG",
        "outputId": "054ef343-12de-4323-ea49-36d4fbeff321"
      },
      "outputs": [
        {
          "data": {
            "image/png": "[encoded data removed]",
            "text/plain": [
              "<Figure size 432x288 with 1 Axes>"
            ]
          },
          "metadata": {},
          "output_type": "display_data"
        }
      ],
      "source": [
        "K = range(1,11)\n",
        "sns.set()\n",
        "plt.plot(K,wcss)\n",
        "plt.title('The Elbow point graph')\n",
        "plt.xlabel('Number of Clusters')\n",
        "plt.ylabel('WCSS')\n",
        "plt.tight_layout()"
      ]
    },
    {
      "cell_type": "code",
      "execution_count": null,
      "metadata": {
        "colab": {
          "base_uri": "https://localhost:8080/"
        },
        "id": "oPvsatgDrvL3",
        "outputId": "c5671e55-a410-44d7-dddf-8456826a8e48"
      },
      "outputs": [
        {
          "data": {
            "text/plain": [
              "KMeans(n_clusters=3)"
            ]
          },
          "execution_count": 20,
          "metadata": {},
          "output_type": "execute_result"
        }
      ],
      "source": [
        "kmeans = KMeans(n_clusters=3)\n",
        "Y = kmeans.fit(x)\n",
        "Y"
      ]
    },
    {
      "cell_type": "code",
      "execution_count": null,
      "metadata": {
        "colab": {
          "base_uri": "https://localhost:8080/",
          "height": 267
        },
        "id": "ec_B5FuEr8po",
        "outputId": "3ef3dc56-ced0-4db0-fac0-3f01e80c4c8e"
      },
      "outputs": [
        {
          "data": {
            "image/png": "[encoded data removed]",
            "text/plain": [
              "<Figure size 432x288 with 1 Axes>"
            ]
          },
          "metadata": {},
          "output_type": "display_data"
        }
      ],
      "source": [
        "plt.scatter(df2.iloc[:,0].values,df2.iloc[:,1].values, c=kmeans.labels_, cmap=\"rainbow\")\n",
        "centers = np.array(kmeans.cluster_centers_)\n",
        "plt.scatter(centers[:,0], centers[:,1], marker=\"x\", color='k')\n",
        "plt.show()"
      ]
    },
    {
      "cell_type": "code",
      "execution_count": null,
      "metadata": {
        "colab": {
          "base_uri": "https://localhost:8080/",
          "height": 267
        },
        "id": "2JyOUPHEXgJO",
        "outputId": "19f936ba-2029-41d1-8da9-1f05fe5466a5"
      },
      "outputs": [
        {
          "data": {
            "image/png": "[encoded data removed]",
            "text/plain": [
              "<Figure size 432x288 with 1 Axes>"
            ]
          },
          "metadata": {},
          "output_type": "display_data"
        }
      ],
      "source": [
        "sns.countplot(x=kmeans.labels_, palette='Oranges')\n",
        "plt.show()"
      ]
    },
    {
      "cell_type": "code",
      "execution_count": null,
      "metadata": {
        "id": "lf1CdAehZN_z"
      },
      "outputs": [],
      "source": [
        "y = kmeans.labels_"
      ]
    },
    {
      "cell_type": "code",
      "execution_count": null,
      "metadata": {
        "colab": {
          "base_uri": "https://localhost:8080/",
          "height": 286
        },
        "id": "7JFitjwob9Ko",
        "outputId": "0cf14908-16c7-48d8-f1ad-3db8c9a5da4a"
      },
      "outputs": [
        {
          "data": {
            "text/plain": [
              "<matplotlib.collections.PathCollection at 0x7f25d30e88d0>"
            ]
          },
          "execution_count": 24,
          "metadata": {},
          "output_type": "execute_result"
        },
        {
          "data": {
            "image/png": "[encoded data removed]",
            "text/plain": [
              "<Figure size 432x288 with 1 Axes>"
            ]
          },
          "metadata": {},
          "output_type": "display_data"
        }
      ],
      "source": [
        "centers = np.array(kmeans.cluster_centers_)\n",
        "plt.scatter(centers[:,0], centers[:,1], marker=\"*\", color='red')"
      ]
    },
    {
      "cell_type": "code",
      "execution_count": null,
      "metadata": {
        "colab": {
          "background_save": true
        },
        "id": "cOuognyoEDbN",
        "outputId": "624c38b6-d07d-423f-ff95-6a008fdf109f"
      },
      "outputs": [
        {
          "data": {
            "text/plain": [
              "0.6038670389145647"
            ]
          },
          "execution_count": null,
          "metadata": {},
          "output_type": "execute_result"
        }
      ],
      "source": [
        "from sklearn.metrics import silhouette_samples,silhouette_score\n",
        "silhouette_score(x,y,metric='euclidean')"
      ]
    },
    {
      "cell_type": "code",
      "execution_count": null,
      "metadata": {
        "colab": {
          "background_save": true
        },
        "id": "0OoUnU87F1LI"
      },
      "outputs": [],
      "source": [
        ""
      ]
    }
  ],
  "metadata": {
    "accelerator": "GPU",
    "colab": {
      "name": "K_Means Project.ipynb",
      "provenance": [],
      "mount_file_id": "1MxAghVX9nUXZ0c5tu3jXIkl_P0hpBclk",
      "authorship_tag": "ABX9TyOmKWLwfP/qTHBcjrkWRs4x",
      "include_colab_link": true
    },
    "kernelspec": {
      "display_name": "Python 3",
      "name": "python3"
    },
    "language_info": {
      "name": "python"
    }
  },
  "nbformat": 4,
  "nbformat_minor": 0
}